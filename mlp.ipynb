{
 "cells": [
  {
   "cell_type": "markdown",
   "metadata": {},
   "source": [
    "# Prepping data"
   ]
  },
  {
   "cell_type": "code",
   "execution_count": 3,
   "metadata": {},
   "outputs": [],
   "source": [
    "# file imports\n",
    "from sklearn.model_selection import train_test_split\n",
    "import pandas as pd\n",
    "import numpy as np\n",
    "from scipy.optimize import minimize as minimize\n",
    "from itertools import islice\n",
    "import time"
   ]
  },
  {
   "cell_type": "code",
   "execution_count": 4,
   "metadata": {
    "colab": {},
    "colab_type": "code",
    "id": "ktEAeLomt37c"
   },
   "outputs": [],
   "source": [
    "# splitting data in train test and val set\n",
    "def data_split(X, y):\n",
    "    X_train, X_test, y_train, y_test = train_test_split(X, y, test_size=0.2, random_state=1)  \n",
    "    X_train, X_val, y_train, y_val = train_test_split(X_train, y_train, test_size=0.2, random_state=1)\n",
    "    return X_train, X_test, X_val, y_train, y_test, y_val\n",
    "\n",
    "data = pd.read_excel(r'C:\\Users\\RE-Giorgio\\Downloads\\dataPoints.xlsx')\n",
    "X = np.array(data.iloc[:,:2])\n",
    "y = np.array(data.iloc[:, 2])\n",
    "X_train, X_test, X_val, y_train, y_test, y_val = data_split(X, y)\n",
    "X_train = X_train.T; X_test = X_test.T; X_val = X_val.T"
   ]
  },
  {
   "cell_type": "code",
   "execution_count": 12,
   "metadata": {},
   "outputs": [
    {
     "data": {
      "text/plain": [
       "(2, 192)"
      ]
     },
     "execution_count": 12,
     "metadata": {},
     "output_type": "execute_result"
    }
   ],
   "source": [
    "X_train.shape"
   ]
  },
  {
   "cell_type": "markdown",
   "metadata": {},
   "source": [
    "# Neural Network parent class"
   ]
  },
  {
   "cell_type": "code",
   "execution_count": 138,
   "metadata": {},
   "outputs": [],
   "source": [
    "class ShallowNeuralNetwork:\n",
    "    \n",
    "    def __init__(self, X, y, N, sigma):\n",
    "\n",
    "        self.X = X\n",
    "        self.y = y\n",
    "        self.N = N\n",
    "        self.w = np.random.normal(0.5,0,(self.N, self.X.shape[0]))\n",
    "        self.b = np.random.normal(0,0,(self.N,1))\n",
    "        self.v = np.random.normal(0.5,0,(1, self.N))\n",
    "        self.output = np.zeros(y.shape[0])\n",
    "        self.rho = 10e-6\n",
    "        self.sigma = sigma\n",
    "    \n",
    "    def concatenate(self,l):\n",
    "\n",
    "        l = [np.array(array).reshape(-1) for array in l]\n",
    "        return np.concatenate(l)\n",
    "\n",
    "    def separate(self, l):\n",
    "\n",
    "        seclist = [self.X.shape[0]*self.N, self.N, self.N]\n",
    "        sliced = np.split(l, np.cumsum(seclist))\n",
    "        #print(l, sliced)\n",
    "        w = sliced[0].reshape(self.N, self.X.shape[0])\n",
    "        b = sliced[1].reshape(self.N, 1)\n",
    "        v = sliced[2].reshape(1, self.N)\n",
    "        return w, b, v\n",
    "    \n",
    "    def loss(self,params, X, y, rho, sigma):\n",
    "        \n",
    "        w, b, v = self.separate(params)\n",
    "        return 0.5 * np.mean(np.square((self.predict(X, w, b, v, sigma) - y))) +\\\n",
    "            rho*np.square(np.linalg.norm(params))\n",
    "    \n",
    "    def mse(self, X, y, w, b, v, sigma):\n",
    "        return 0.5*np.mean(np.square(self.predict(X, w, b, v, sigma) - y)) "
   ]
  },
  {
   "cell_type": "markdown",
   "metadata": {},
   "source": [
    "## MLP child class"
   ]
  },
  {
   "cell_type": "code",
   "execution_count": 146,
   "metadata": {
    "colab": {},
    "colab_type": "code",
    "id": "F9ffLn4Tt37m"
   },
   "outputs": [],
   "source": [
    "class Mlp(ShallowNeuralNetwork):\n",
    "    \n",
    "    def g(self, x, sigma):\n",
    "        return (1-np.exp(-2*x*sigma))/(1+np.exp(-2*x*sigma))\n",
    "\n",
    "    def predict(self, x, w, b, v, sigma):\n",
    "        \n",
    "        z = np.dot(w, x) + b\n",
    "        g_z = self.g(z, sigma)\n",
    "        self.output = np.dot(v, g_z)\n",
    "        return self.output\n",
    "                          \n",
    "    def optimize(self):\n",
    "        \n",
    "        \n",
    "        function_args = (self.X, self.y, self.rho, self.sigma)\n",
    "        inits = self.concatenate([self.w, self.b, self.v])\n",
    "\n",
    "        start = time.time()\n",
    "        result =  minimize(self.loss, x0 = inits, method='BFGS', args = function_args)\n",
    "        time_elapsed = time.time() - start\n",
    "        print(result)\n",
    "        \n",
    "        print(self.separate(result.x))\n",
    "        self.w, self.b, self.v = self.separate(result.x)\n",
    "        \n",
    "        func_eval = result.nfev\n",
    "        grad_eval = result.njev\n",
    "        iterations = result.nit\n",
    "        opt_fun = result.fun\n",
    "        return func_eval, grad_eval, iterations, opt_fun, time_elapsed"
   ]
  },
  {
   "cell_type": "markdown",
   "metadata": {},
   "source": [
    "## first run"
   ]
  },
  {
   "cell_type": "code",
   "execution_count": 147,
   "metadata": {
    "colab": {},
    "colab_type": "code",
    "id": "5flLC-Vkt37p"
   },
   "outputs": [
    {
     "name": "stdout",
     "output_type": "stream",
     "text": [
      "      fun: 0.0030902163435267958\n",
      " hess_inv: array([[ 5.84746902e+01,  4.83143225e+01,  8.93330156e+00, ...,\n",
      "         9.02059089e+00,  5.31013806e+01,  1.54424483e+02],\n",
      "       [ 4.83143225e+01,  2.34692504e+03,  1.53660027e+02, ...,\n",
      "        -8.61687406e+01,  1.13746025e+02, -8.15955096e+01],\n",
      "       [ 8.93330156e+00,  1.53660027e+02,  8.66181015e+01, ...,\n",
      "        -1.40183261e+01, -4.46829379e+01, -8.07626574e+01],\n",
      "       ...,\n",
      "       [ 9.02059089e+00, -8.61687407e+01, -1.40183261e+01, ...,\n",
      "         8.78136406e+03,  3.33550539e+02, -5.82716422e+02],\n",
      "       [ 5.31013806e+01,  1.13746025e+02, -4.46829379e+01, ...,\n",
      "         3.33550539e+02,  1.87918323e+04, -1.55451093e+04],\n",
      "       [ 1.54424483e+02, -8.15955096e+01, -8.07626574e+01, ...,\n",
      "        -5.82716422e+02, -1.55451093e+04,  2.15918506e+04]])\n",
      "      jac: array([-1.49034895e-06, -4.68737562e-06,  9.22736945e-06, -7.37581286e-06,\n",
      "       -1.10032852e-06, -2.26288103e-06, -1.96119072e-06, -2.45953561e-06,\n",
      "       -2.07999256e-06, -1.37512689e-06, -3.31850606e-06, -1.24049257e-06,\n",
      "       -2.14533065e-06, -2.91666947e-06, -2.93573248e-06, -4.41470183e-06,\n",
      "       -3.67785105e-06, -1.69369741e-06, -1.70123531e-06, -3.15372017e-06,\n",
      "       -2.08345591e-06, -2.31777085e-06, -1.54098962e-06, -3.05587309e-06,\n",
      "        1.24867074e-06,  4.20139986e-06, -9.40417522e-06,  1.30705303e-06,\n",
      "       -5.09593519e-06, -1.87402475e-06,  2.76730862e-06,  3.76341632e-07,\n",
      "        3.14495992e-07,  2.72950274e-06,  3.97034455e-06,  2.88902083e-06,\n",
      "       -4.82783071e-06,  6.25694520e-06, -2.92944605e-06, -1.42239151e-06,\n",
      "        1.75728928e-06,  2.19885260e-06,  1.04535138e-06, -1.92408334e-06,\n",
      "        1.17803575e-06, -1.12107955e-07, -8.69156793e-07, -1.81517680e-06,\n",
      "        6.67528366e-06, -1.79384369e-06, -2.42560054e-06,  1.27917156e-06,\n",
      "        3.27563612e-06,  6.40717917e-06, -1.48141407e-06,  3.04024434e-06,\n",
      "        1.72556611e-07, -6.42758096e-07, -2.47985008e-06, -2.86006252e-06,\n",
      "        1.82189979e-06, -3.94036761e-07, -3.24516441e-06,  4.53004031e-06,\n",
      "       -3.22668348e-06,  2.49070581e-06, -1.07887900e-07, -1.15635339e-06,\n",
      "       -1.02765625e-06, -1.82734220e-06,  2.72100442e-06,  2.19163485e-06])\n",
      "  message: 'Optimization terminated successfully.'\n",
      "     nfev: 458282\n",
      "      nit: 5925\n",
      "     njev: 6193\n",
      "   status: 0\n",
      "  success: True\n",
      "        x: array([ 4.15208946e-02, -2.03806198e+00, -1.76215279e-01, -3.17207223e+00,\n",
      "        1.27326478e-01,  2.77253854e+00, -1.87225696e+00,  7.68488196e-02,\n",
      "       -2.37328643e-02,  3.10623080e-02,  2.34122040e+00, -6.08953801e-02,\n",
      "       -2.72066545e+00, -6.65901964e-02, -3.98984512e-01,  8.03332995e-01,\n",
      "       -5.05674818e-02,  1.80818365e+00, -1.61916054e+00,  6.14681458e-02,\n",
      "       -2.12335531e-02,  2.10237683e-02, -4.78782725e-01, -1.11449893e+00,\n",
      "        1.43084336e-02, -2.30034862e-03, -5.38597243e-02,  8.54379553e-02,\n",
      "       -3.19351113e-02,  3.67648977e-02, -3.06999180e+00, -8.71548006e-02,\n",
      "       -1.41573097e+00, -1.24453422e-02, -1.32780287e+00, -6.16899319e-02,\n",
      "        1.09663752e+00, -3.23699415e+00, -2.81711239e+00,  3.04973752e+00,\n",
      "        1.33169752e+00,  3.78244407e+00, -5.54330955e+00,  8.53956674e-01,\n",
      "        1.09420936e+00, -8.94121511e-01,  1.27704165e+00, -6.84813824e-01,\n",
      "       -1.21967252e+00,  1.28376884e+00,  1.27478595e+00,  6.28023760e+00,\n",
      "        8.07894327e-01,  9.36921132e-01,  2.01029691e+00,  2.71919986e+00,\n",
      "        2.45908276e+00,  1.94855151e+00,  2.05482626e+00,  2.04005465e+00,\n",
      "        3.74686488e+00,  1.79589348e+00,  1.79942279e+00,  1.95522698e+00,\n",
      "        1.98227194e+00,  9.60222310e-01, -2.10796143e+00,  2.08889030e+00,\n",
      "        2.09096540e+00, -3.89164734e+00, -1.67563818e+00, -1.67508997e+00])\n",
      "(array([[ 4.15208946e-02, -2.03806198e+00],\n",
      "       [-1.76215279e-01, -3.17207223e+00],\n",
      "       [ 1.27326478e-01,  2.77253854e+00],\n",
      "       [-1.87225696e+00,  7.68488196e-02],\n",
      "       [-2.37328643e-02,  3.10623080e-02],\n",
      "       [ 2.34122040e+00, -6.08953801e-02],\n",
      "       [-2.72066545e+00, -6.65901964e-02],\n",
      "       [-3.98984512e-01,  8.03332995e-01],\n",
      "       [-5.05674818e-02,  1.80818365e+00],\n",
      "       [-1.61916054e+00,  6.14681458e-02],\n",
      "       [-2.12335531e-02,  2.10237683e-02],\n",
      "       [-4.78782725e-01, -1.11449893e+00],\n",
      "       [ 1.43084336e-02, -2.30034862e-03],\n",
      "       [-5.38597243e-02,  8.54379553e-02],\n",
      "       [-3.19351113e-02,  3.67648977e-02],\n",
      "       [-3.06999180e+00, -8.71548006e-02],\n",
      "       [-1.41573097e+00, -1.24453422e-02],\n",
      "       [-1.32780287e+00, -6.16899319e-02]]), array([[ 1.09663752],\n",
      "       [-3.23699415],\n",
      "       [-2.81711239],\n",
      "       [ 3.04973752],\n",
      "       [ 1.33169752],\n",
      "       [ 3.78244407],\n",
      "       [-5.54330955],\n",
      "       [ 0.85395667],\n",
      "       [ 1.09420936],\n",
      "       [-0.89412151],\n",
      "       [ 1.27704165],\n",
      "       [-0.68481382],\n",
      "       [-1.21967252],\n",
      "       [ 1.28376884],\n",
      "       [ 1.27478595],\n",
      "       [ 6.2802376 ],\n",
      "       [ 0.80789433],\n",
      "       [ 0.93692113]]), array([[ 2.01029691,  2.71919986,  2.45908276,  1.94855151,  2.05482626,\n",
      "         2.04005465,  3.74686488,  1.79589348,  1.79942279,  1.95522698,\n",
      "         1.98227194,  0.96022231, -2.10796143,  2.0888903 ,  2.0909654 ,\n",
      "        -3.89164734, -1.67563818, -1.67508997]]))\n"
     ]
    },
    {
     "ename": "ValueError",
     "evalue": "shapes (18,1) and (2,192) not aligned: 1 (dim 1) != 2 (dim 0)",
     "output_type": "error",
     "traceback": [
      "\u001b[1;31m---------------------------------------------------------------------------\u001b[0m",
      "\u001b[1;31mValueError\u001b[0m                                Traceback (most recent call last)",
      "\u001b[1;32m<ipython-input-147-3f52276f5c43>\u001b[0m in \u001b[0;36m<module>\u001b[1;34m\u001b[0m\n\u001b[0;32m      1\u001b[0m \u001b[0mnn\u001b[0m \u001b[1;33m=\u001b[0m \u001b[0mMlp\u001b[0m\u001b[1;33m(\u001b[0m\u001b[0mX_train\u001b[0m\u001b[1;33m,\u001b[0m \u001b[0my_train\u001b[0m\u001b[1;33m,\u001b[0m \u001b[1;36m18\u001b[0m\u001b[1;33m,\u001b[0m \u001b[1;36m1\u001b[0m\u001b[1;33m)\u001b[0m\u001b[1;33m\u001b[0m\u001b[1;33m\u001b[0m\u001b[0m\n\u001b[0;32m      2\u001b[0m \u001b[0mfunc_eval\u001b[0m\u001b[1;33m,\u001b[0m \u001b[0mgrad_eval\u001b[0m\u001b[1;33m,\u001b[0m \u001b[0miterations\u001b[0m\u001b[1;33m,\u001b[0m \u001b[0mopt_fun\u001b[0m\u001b[1;33m,\u001b[0m \u001b[0mtime_elapsed\u001b[0m \u001b[1;33m=\u001b[0m \u001b[0mnn\u001b[0m\u001b[1;33m.\u001b[0m\u001b[0moptimize\u001b[0m\u001b[1;33m(\u001b[0m\u001b[1;33m)\u001b[0m\u001b[1;33m\u001b[0m\u001b[1;33m\u001b[0m\u001b[0m\n\u001b[1;32m----> 3\u001b[1;33m \u001b[0mprint\u001b[0m\u001b[1;33m(\u001b[0m\u001b[1;34m\"Training Error :\"\u001b[0m\u001b[1;33m,\u001b[0m \u001b[0mnn\u001b[0m\u001b[1;33m.\u001b[0m\u001b[0mmse\u001b[0m\u001b[1;33m(\u001b[0m\u001b[0mX_train\u001b[0m\u001b[1;33m,\u001b[0m \u001b[0mnn\u001b[0m\u001b[1;33m.\u001b[0m\u001b[0mw\u001b[0m\u001b[1;33m,\u001b[0m \u001b[0mnn\u001b[0m\u001b[1;33m.\u001b[0m\u001b[0mb\u001b[0m\u001b[1;33m,\u001b[0m \u001b[0mnn\u001b[0m\u001b[1;33m.\u001b[0m\u001b[0mv\u001b[0m\u001b[1;33m,\u001b[0m \u001b[0mnn\u001b[0m\u001b[1;33m.\u001b[0m\u001b[0msigma\u001b[0m\u001b[1;33m,\u001b[0m \u001b[0my_train\u001b[0m\u001b[1;33m)\u001b[0m\u001b[1;33m)\u001b[0m\u001b[1;33m\u001b[0m\u001b[1;33m\u001b[0m\u001b[0m\n\u001b[0m",
      "\u001b[1;32m<ipython-input-138-90de5c71ab0c>\u001b[0m in \u001b[0;36mmse\u001b[1;34m(self, X, y, w, b, v, sigma)\u001b[0m\n\u001b[0;32m     35\u001b[0m \u001b[1;33m\u001b[0m\u001b[0m\n\u001b[0;32m     36\u001b[0m     \u001b[1;32mdef\u001b[0m \u001b[0mmse\u001b[0m\u001b[1;33m(\u001b[0m\u001b[0mself\u001b[0m\u001b[1;33m,\u001b[0m \u001b[0mX\u001b[0m\u001b[1;33m,\u001b[0m \u001b[0my\u001b[0m\u001b[1;33m,\u001b[0m \u001b[0mw\u001b[0m\u001b[1;33m,\u001b[0m \u001b[0mb\u001b[0m\u001b[1;33m,\u001b[0m \u001b[0mv\u001b[0m\u001b[1;33m,\u001b[0m \u001b[0msigma\u001b[0m\u001b[1;33m)\u001b[0m\u001b[1;33m:\u001b[0m\u001b[1;33m\u001b[0m\u001b[1;33m\u001b[0m\u001b[0m\n\u001b[1;32m---> 37\u001b[1;33m         \u001b[1;32mreturn\u001b[0m \u001b[1;36m0.5\u001b[0m\u001b[1;33m*\u001b[0m\u001b[0mnp\u001b[0m\u001b[1;33m.\u001b[0m\u001b[0mmean\u001b[0m\u001b[1;33m(\u001b[0m\u001b[0mnp\u001b[0m\u001b[1;33m.\u001b[0m\u001b[0msquare\u001b[0m\u001b[1;33m(\u001b[0m\u001b[0mself\u001b[0m\u001b[1;33m.\u001b[0m\u001b[0mpredict\u001b[0m\u001b[1;33m(\u001b[0m\u001b[0mX\u001b[0m\u001b[1;33m,\u001b[0m \u001b[0mw\u001b[0m\u001b[1;33m,\u001b[0m \u001b[0mb\u001b[0m\u001b[1;33m,\u001b[0m \u001b[0mv\u001b[0m\u001b[1;33m,\u001b[0m \u001b[0msigma\u001b[0m\u001b[1;33m)\u001b[0m \u001b[1;33m-\u001b[0m \u001b[0my\u001b[0m\u001b[1;33m)\u001b[0m\u001b[1;33m)\u001b[0m\u001b[1;33m\u001b[0m\u001b[1;33m\u001b[0m\u001b[0m\n\u001b[0m",
      "\u001b[1;32m<ipython-input-146-f67ee7771eaf>\u001b[0m in \u001b[0;36mpredict\u001b[1;34m(self, x, w, b, v, sigma)\u001b[0m\n\u001b[0;32m      6\u001b[0m     \u001b[1;32mdef\u001b[0m \u001b[0mpredict\u001b[0m\u001b[1;33m(\u001b[0m\u001b[0mself\u001b[0m\u001b[1;33m,\u001b[0m \u001b[0mx\u001b[0m\u001b[1;33m,\u001b[0m \u001b[0mw\u001b[0m\u001b[1;33m,\u001b[0m \u001b[0mb\u001b[0m\u001b[1;33m,\u001b[0m \u001b[0mv\u001b[0m\u001b[1;33m,\u001b[0m \u001b[0msigma\u001b[0m\u001b[1;33m)\u001b[0m\u001b[1;33m:\u001b[0m\u001b[1;33m\u001b[0m\u001b[1;33m\u001b[0m\u001b[0m\n\u001b[0;32m      7\u001b[0m \u001b[1;33m\u001b[0m\u001b[0m\n\u001b[1;32m----> 8\u001b[1;33m         \u001b[0mz\u001b[0m \u001b[1;33m=\u001b[0m \u001b[0mnp\u001b[0m\u001b[1;33m.\u001b[0m\u001b[0mdot\u001b[0m\u001b[1;33m(\u001b[0m\u001b[0mw\u001b[0m\u001b[1;33m,\u001b[0m \u001b[0mx\u001b[0m\u001b[1;33m)\u001b[0m \u001b[1;33m+\u001b[0m \u001b[0mb\u001b[0m\u001b[1;33m\u001b[0m\u001b[1;33m\u001b[0m\u001b[0m\n\u001b[0m\u001b[0;32m      9\u001b[0m         \u001b[0mg_z\u001b[0m \u001b[1;33m=\u001b[0m \u001b[0mself\u001b[0m\u001b[1;33m.\u001b[0m\u001b[0mg\u001b[0m\u001b[1;33m(\u001b[0m\u001b[0mz\u001b[0m\u001b[1;33m,\u001b[0m \u001b[0msigma\u001b[0m\u001b[1;33m)\u001b[0m\u001b[1;33m\u001b[0m\u001b[1;33m\u001b[0m\u001b[0m\n\u001b[0;32m     10\u001b[0m         \u001b[0mself\u001b[0m\u001b[1;33m.\u001b[0m\u001b[0moutput\u001b[0m \u001b[1;33m=\u001b[0m \u001b[0mnp\u001b[0m\u001b[1;33m.\u001b[0m\u001b[0mdot\u001b[0m\u001b[1;33m(\u001b[0m\u001b[0mv\u001b[0m\u001b[1;33m,\u001b[0m \u001b[0mg_z\u001b[0m\u001b[1;33m)\u001b[0m\u001b[1;33m\u001b[0m\u001b[1;33m\u001b[0m\u001b[0m\n",
      "\u001b[1;31mValueError\u001b[0m: shapes (18,1) and (2,192) not aligned: 1 (dim 1) != 2 (dim 0)"
     ]
    }
   ],
   "source": [
    "nn = Mlp(X_train, y_train, 18, 1)\n",
    "func_eval, grad_eval, iterations, opt_fun, time_elapsed = nn.optimize()\n",
    "print(\"Training Error :\", nn.mse(X_train, y_train, nn.w, nn.b, nn.v, nn.sigma))"
   ]
  },
  {
   "cell_type": "code",
   "execution_count": 150,
   "metadata": {},
   "outputs": [
    {
     "data": {
      "text/plain": [
       "1.2219066124006976"
      ]
     },
     "execution_count": 150,
     "metadata": {},
     "output_type": "execute_result"
    }
   ],
   "source": [
    "nn.predict(X_test)\n",
    "nn.mse(X_test, y_test)"
   ]
  },
  {
   "cell_type": "code",
   "execution_count": 114,
   "metadata": {},
   "outputs": [],
   "source": [
    "del w, b, v"
   ]
  }
 ],
 "metadata": {
  "colab": {
   "collapsed_sections": [],
   "name": "Copy of mlp.ipynb",
   "provenance": []
  },
  "kernelspec": {
   "display_name": "Python 3",
   "language": "python",
   "name": "python3"
  },
  "language_info": {
   "codemirror_mode": {
    "name": "ipython",
    "version": 3
   },
   "file_extension": ".py",
   "mimetype": "text/x-python",
   "name": "python",
   "nbconvert_exporter": "python",
   "pygments_lexer": "ipython3",
   "version": "3.7.1"
  }
 },
 "nbformat": 4,
 "nbformat_minor": 1
}
