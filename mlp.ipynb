{
 "cells": [
  {
   "cell_type": "code",
   "execution_count": 27,
   "metadata": {
    "colab": {},
    "colab_type": "code",
    "id": "ktEAeLomt37c"
   },
   "outputs": [],
   "source": [
    "from sklearn.model_selection import train_test_split\n",
    "import pandas as pd\n",
    "import numpy as np\n",
    "from scipy.optimize import minimize as minimize\n",
    "from itertools import islice"
   ]
  },
  {
   "cell_type": "code",
   "execution_count": 7,
   "metadata": {
    "colab": {},
    "colab_type": "code",
    "id": "sCadcbDSt37g"
   },
   "outputs": [],
   "source": [
    "def data_split(X, y):\n",
    "    X_train, X_test, y_train, y_test = train_test_split(X, y, test_size=0.2, random_state=1)  \n",
    "    X_train, X_val, y_train, y_val = train_test_split(X_train, y_train, test_size=0.2, random_state=1)\n",
    "    return X_train, X_test, X_val, y_train, y_test, y_val"
   ]
  },
  {
   "cell_type": "code",
   "execution_count": 43,
   "metadata": {
    "colab": {},
    "colab_type": "code",
    "id": "fV9CRTxHt37k"
   },
   "outputs": [],
   "source": [
    "data = pd.read_excel(r'C:\\Users\\RE-Giorgio\\Downloads\\dataPoints.xlsx')\n",
    "X = np.array(data.iloc[:,:2])\n",
    "y = np.array(data.iloc[:, 2])\n",
    "X_train, X_test, X_val, y_train, y_test, y_val = data_split(X, y)"
   ]
  },
  {
   "cell_type": "code",
   "execution_count": 60,
   "metadata": {
    "colab": {},
    "colab_type": "code",
    "id": "F9ffLn4Tt37m"
   },
   "outputs": [],
   "source": [
    "class Mlp:\n",
    "    \n",
    "    def __init__(self, X, y, N, sigma):\n",
    "        \n",
    "        self.X = X\n",
    "        self.y = y\n",
    "        self.N = N\n",
    "        self.bias = np.zeros(self.N)\n",
    "        self.weights1 = np.random.normal(0,1,(self.X.shape[1], self.N))\n",
    "        self.weights2 = np.random.normal(0,1,(self.N, 1))\n",
    "        self.output = np.zeros(y.shape[0])\n",
    "        self.rho = np.random.normal(10e-4,10e-5,1)\n",
    "        self.sigma = sigma\n",
    "    \n",
    "    def concatenate(self,l):\n",
    "        \n",
    "        l = [array.reshape(-1,1) for array in l]\n",
    "        return np.concatenate(l)\n",
    "   \n",
    "    def act_fun(self,x):\n",
    "        return (1-np.exp(-2*x*self.sigma))/(1+np.exp(-2*x*self.sigma))\n",
    "\n",
    "    def forward_propagation(self):\n",
    "        \n",
    "        self.hidden_layer = self.act_fun(np.dot(self.X, self.weights1))\n",
    "        self.output = np.dot(self.hidden_layer, self.weights2)\n",
    "        return self.output\n",
    "    \n",
    "    def loss(self,params, fixed_params):\n",
    "\n",
    "        seclist = [self.X.shape[1]*self.N, self.N, self.N]\n",
    "        weights1, weights2, bias = [list(islice(iter(params), 0, i)) for i in seclist]\n",
    "        y, rho, sigma = fixed_params\n",
    "        return 0.5 * np.mean(np.square((self.act_fun(self.forward_propagation()) - y))) +\\\n",
    "            rho*np.square(np.linalg.norm(np.hstack((weights1, weights2, bias))))\n",
    "                          \n",
    "    def optimization(self):\n",
    "        function_args = np.array([self.y, self.rho, self.sigma])\n",
    "        inits = self.concatenate([self.weights1, self.weights2, self.bias])\n",
    "        return minimize(self.loss, x0 = inits, method='CG', args = function_args)\n",
    "        "
   ]
  },
  {
   "cell_type": "code",
   "execution_count": 61,
   "metadata": {
    "colab": {},
    "colab_type": "code",
    "id": "5flLC-Vkt37p"
   },
   "outputs": [
    {
     "data": {
      "text/plain": [
       "     fun: 1.4907237258240975\n",
       "     jac: array([ 3.12924385e-07,  1.49011612e-08, -1.04308128e-07, -1.93715096e-07,\n",
       "       -1.04308128e-07, -2.83122063e-07,  1.63912773e-07,  4.47034836e-08,\n",
       "       -2.83122063e-07, -7.45058060e-08, -7.45058060e-08, -1.49011612e-08,\n",
       "        1.04308128e-07, -4.47034836e-08, -2.98023224e-08,  1.78813934e-07,\n",
       "        1.78813934e-07,  1.19209290e-07, -2.23517418e-07,  0.00000000e+00,\n",
       "        0.00000000e+00,  0.00000000e+00,  0.00000000e+00,  0.00000000e+00,\n",
       "        0.00000000e+00,  0.00000000e+00,  0.00000000e+00,  0.00000000e+00,\n",
       "        0.00000000e+00,  0.00000000e+00,  0.00000000e+00,  0.00000000e+00,\n",
       "        0.00000000e+00,  0.00000000e+00,  0.00000000e+00,  0.00000000e+00,\n",
       "        0.00000000e+00,  0.00000000e+00,  0.00000000e+00,  0.00000000e+00])\n",
       " message: 'Optimization terminated successfully.'\n",
       "    nfev: 882\n",
       "     nit: 4\n",
       "    njev: 21\n",
       "  status: 0\n",
       " success: True\n",
       "       x: array([ 4.46098943e-05,  2.56053642e-06, -1.53149349e-05, -2.66684352e-05,\n",
       "       -1.40573877e-05, -4.09464759e-05,  2.33833546e-05,  6.12345662e-06,\n",
       "       -4.08945491e-05, -1.12314189e-05, -3.18319741e-05, -6.59172863e-06,\n",
       "        4.56216172e-05, -1.47714375e-05, -1.33734181e-05,  7.67455299e-05,\n",
       "        8.10053417e-05,  5.46425653e-05, -9.80897976e-05,  6.64025897e-07,\n",
       "        1.01170522e+00, -8.03555948e-01, -7.82898912e-01, -1.25751241e-01,\n",
       "        1.23516404e-02,  1.44143676e+00, -2.51451164e-01, -8.43798715e-01,\n",
       "        3.70768203e-02, -2.02688856e-01,  0.00000000e+00,  0.00000000e+00,\n",
       "        0.00000000e+00,  0.00000000e+00,  0.00000000e+00,  0.00000000e+00,\n",
       "        0.00000000e+00,  0.00000000e+00,  0.00000000e+00,  0.00000000e+00])"
      ]
     },
     "execution_count": 61,
     "metadata": {},
     "output_type": "execute_result"
    }
   ],
   "source": [
    "nn = Mlp(X_train, y_train, 10, 1)\n",
    "nn.optimization()"
   ]
  }
 ],
 "metadata": {
  "colab": {
   "collapsed_sections": [],
   "name": "Copy of mlp.ipynb",
   "provenance": []
  },
  "kernelspec": {
   "display_name": "Python 3",
   "language": "python",
   "name": "python3"
  },
  "language_info": {
   "codemirror_mode": {
    "name": "ipython",
    "version": 3
   },
   "file_extension": ".py",
   "mimetype": "text/x-python",
   "name": "python",
   "nbconvert_exporter": "python",
   "pygments_lexer": "ipython3",
   "version": "3.7.1"
  }
 },
 "nbformat": 4,
 "nbformat_minor": 1
}
