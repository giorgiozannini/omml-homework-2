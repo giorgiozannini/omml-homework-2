{
 "cells": [
  {
   "cell_type": "code",
   "execution_count": 30,
   "metadata": {},
   "outputs": [],
   "source": [
    "import numpy as np\n",
    "from scipy.optimize import minimize\n",
    "from sklearn.preprocessing import StandardScaler\n",
    "from scipy.optimize import NonlinearConstraint\n",
    "from scipy.optimize import LinearConstraint\n",
    "from sklearn.model_selection import train_test_split\n",
    "from sklearn.metrics import accuracy_score\n",
    "from cvxopt.modeling import op, variable, dot\n",
    "from cvxopt import matrix as cvxopt_matrix\n",
    "from cvxopt import solvers as cvxopt_solvers"
   ]
  },
  {
   "cell_type": "code",
   "execution_count": 118,
   "metadata": {},
   "outputs": [],
   "source": [
    "def load_mnist(path, kind='train'):\n",
    "    import os\n",
    "    import gzip\n",
    "    import numpy as np\n",
    "\n",
    "    labels_path = os.path.join(path,\n",
    "                               '%s-labels-idx1-ubyte.gz'\n",
    "                               % kind)\n",
    "    images_path = os.path.join(path,\n",
    "                               '%s-images-idx3-ubyte.gz'\n",
    "                               % kind)\n",
    "\n",
    "    with gzip.open(labels_path, 'rb') as lbpath:\n",
    "        labels = np.frombuffer(lbpath.read(), dtype=np.uint8,\n",
    "                               offset=8)\n",
    "\n",
    "    with gzip.open(images_path, 'rb') as imgpath:\n",
    "        images = np.frombuffer(imgpath.read(), dtype=np.uint8,\n",
    "                               offset=16).reshape(len(labels), 784)\n",
    "\n",
    "    return images, labels\n",
    "\n",
    "\n",
    "\n",
    "X_all_labels, y_all_labels = load_mnist('C:/Users/RE-Giorgio/Documents/OptimusPrime/Data', kind='train')\n",
    "\n",
    "\n",
    "indexLabel2 = np.where((y_all_labels==2))\n",
    "xLabel2 =  X_all_labels[indexLabel2][:1000,:].astype('float64') \n",
    "yLabel2 = y_all_labels[indexLabel2][:1000].astype('float64') \n",
    "\n",
    "indexLabel4 = np.where((y_all_labels==4))\n",
    "xLabel4 =  X_all_labels[indexLabel4][:1000,:].astype('float64') \n",
    "yLabel4 = y_all_labels[indexLabel4][:1000].astype('float64') \n",
    "\n",
    "indexLabel6 = np.where((y_all_labels==6))\n",
    "xLabel6 =  X_all_labels[indexLabel6][:100,:].astype('float64') \n",
    "yLabel6 = y_all_labels[indexLabel6][:100].astype('float64') \n",
    "\n",
    "yLabel2[:] = +1\n",
    "yLabel4[:] = -1\n",
    "\n",
    "X = np.concatenate([xLabel2, xLabel4])\n",
    "y = np.concatenate([yLabel2, yLabel4])\n",
    "\n",
    "scaler = StandardScaler()\n",
    "X=scaler.fit_transform(X)"
   ]
  },
  {
   "cell_type": "code",
   "execution_count": 114,
   "metadata": {},
   "outputs": [],
   "source": [
    "X_train, X_test, y_train, y_test = train_test_split(X, y, test_size=0.2, random_state=1696995) "
   ]
  },
  {
   "cell_type": "code",
   "execution_count": 221,
   "metadata": {},
   "outputs": [
    {
     "name": "stdout",
     "output_type": "stream",
     "text": [
      "     pcost       dcost       gap    pres   dres\n",
      " 0: -4.4443e+02 -8.6752e+03  8e+03  9e-14  9e-16\n",
      " 1: -7.4235e+02 -1.3535e+03  6e+02  2e-13  2e-16\n",
      " 2: -7.9977e+02 -8.2834e+02  3e+01  3e-13  8e-17\n",
      " 3: -7.9998e+02 -8.0027e+02  3e-01  3e-14  1e-17\n",
      " 4: -7.9998e+02 -7.9998e+02  3e-03  2e-13  3e-17\n",
      " 5: -7.9998e+02 -7.9998e+02  3e-05  2e-13  4e-17\n",
      " 6: -7.9998e+02 -7.9998e+02  3e-07  1e-13  5e-17\n",
      " 7: -7.9998e+02 -7.9998e+02  3e-09  2e-13  5e-17\n",
      " 8: -7.9998e+02 -7.9998e+02  3e-11  2e-13  3e-17\n",
      "Optimal solution found.\n",
      "0.5025\n"
     ]
    }
   ],
   "source": [
    "class Svm:\n",
    "    \n",
    "    def __init__(self, X, y, gamma, C):\n",
    "        \n",
    "        self.X = X\n",
    "        self.y = y\n",
    "        self.alpha = np.random.normal(0,1,(1,self.X.shape[0]))\n",
    "        self.b = np.random.randint(1)\n",
    "        self.C = C\n",
    "        self.gamma = gamma\n",
    "        \n",
    "    def predict(self,X, y):\n",
    "        \n",
    "        z = ((self.alpha*y) @ self.kernel_gauss(X)) + self.b\n",
    "        a = np.sign(z)    \n",
    "        return a\n",
    "        \n",
    "    def kernel_gauss(self, X):\n",
    "        \n",
    "        split = np.split(X, X.shape[0])\n",
    "        res = []\n",
    "        for array in split:\n",
    "            res.append(np.exp(-self.gamma * (np.sum(np.square(array-X), axis = 1))))\n",
    "        return np.array(res)\n",
    "    \n",
    "    def kernel_poly(self,x):\n",
    "        \n",
    "        return np.squeeze((np.split(x, x.shape[0]) @ np.stack([x.T]*x.shape[0]) + 1)**self.gamma)\n",
    "    \n",
    "        \n",
    "    def optimize(self):\n",
    "        \n",
    "        y = self.y.reshape(-1,1) \n",
    "        H = y*self.kernel_gauss(self.X)*y \n",
    "        P = cvxopt_matrix(H)\n",
    "        q = cvxopt_matrix(-np.ones((self.X.shape[0], 1)))\n",
    "        G = cvxopt_matrix(np.vstack((np.eye(self.X.shape[0])*-1,np.eye(self.X.shape[0]))))\n",
    "        h = cvxopt_matrix(np.hstack((np.zeros(self.X.shape[0]), np.ones(self.X.shape[0]) * self.C)))\n",
    "        A = cvxopt_matrix(y.reshape(1, -1))\n",
    "        b = cvxopt_matrix(np.zeros(1))\n",
    "        \n",
    "        res = cvxopt_solvers.qp(P, q, G, h, A, b)\n",
    "        \n",
    "        alpha = np.array(res['x'])\n",
    "        self.alpha = alpha.T\n",
    "        \n",
    "        \n",
    "        \n",
    "# ====================== to be fixed ====================== #\n",
    "        \n",
    "#         idx = (alpha.ravel() > 1e-3)\n",
    "#         w = self.X.T @ (y*alpha)\n",
    "#         b = (1 - (y[idx, :]*(self.X[idx,:]) @ w))/y[idx, :]\n",
    "#         self.b = b[0]\n",
    "        \n",
    "        \n",
    "svm = Svm(X_train, y_train, gamma = 6, C = 4)\n",
    "svm.optimize()\n",
    "y_pred = svm.predict(X_train, y_train)\n",
    "print(accuracy_score(y_train.reshape(-1,1), y_pred.reshape(-1,1)))"
   ]
  },
  {
   "cell_type": "code",
   "execution_count": 160,
   "metadata": {},
   "outputs": [
    {
     "data": {
      "text/plain": [
       "(1600,)"
      ]
     },
     "execution_count": 160,
     "metadata": {},
     "output_type": "execute_result"
    }
   ],
   "source": [
    "y_train.shape"
   ]
  },
  {
   "cell_type": "code",
   "execution_count": 119,
   "metadata": {},
   "outputs": [
    {
     "ename": "KeyboardInterrupt",
     "evalue": "",
     "output_type": "error",
     "traceback": [
      "\u001b[1;31m---------------------------------------------------------------------------\u001b[0m",
      "\u001b[1;31mKeyboardInterrupt\u001b[0m                         Traceback (most recent call last)",
      "\u001b[1;32m<ipython-input-119-01ab446ff938>\u001b[0m in \u001b[0;36m<module>\u001b[1;34m\u001b[0m\n\u001b[0;32m     45\u001b[0m \u001b[1;33m\u001b[0m\u001b[0m\n\u001b[0;32m     46\u001b[0m \u001b[0msvm\u001b[0m \u001b[1;33m=\u001b[0m \u001b[0mSvm\u001b[0m\u001b[1;33m(\u001b[0m\u001b[0mX_train\u001b[0m\u001b[1;33m,\u001b[0m \u001b[0my_train\u001b[0m\u001b[1;33m,\u001b[0m \u001b[0mgamma\u001b[0m \u001b[1;33m=\u001b[0m \u001b[1;36m6\u001b[0m\u001b[1;33m,\u001b[0m \u001b[0mC\u001b[0m \u001b[1;33m=\u001b[0m \u001b[1;36m4\u001b[0m\u001b[1;33m)\u001b[0m\u001b[1;33m\u001b[0m\u001b[1;33m\u001b[0m\u001b[0m\n\u001b[1;32m---> 47\u001b[1;33m \u001b[0msvm\u001b[0m\u001b[1;33m.\u001b[0m\u001b[0moptimize\u001b[0m\u001b[1;33m(\u001b[0m\u001b[1;33m)\u001b[0m\u001b[1;33m\u001b[0m\u001b[1;33m\u001b[0m\u001b[0m\n\u001b[0m\u001b[0;32m     48\u001b[0m \u001b[0my_pred\u001b[0m \u001b[1;33m=\u001b[0m \u001b[0msvm\u001b[0m\u001b[1;33m.\u001b[0m\u001b[0mpredict\u001b[0m\u001b[1;33m(\u001b[0m\u001b[0mX_train\u001b[0m\u001b[1;33m,\u001b[0m \u001b[0my_train\u001b[0m\u001b[1;33m)\u001b[0m\u001b[1;33m\u001b[0m\u001b[1;33m\u001b[0m\u001b[0m\n\u001b[0;32m     49\u001b[0m \u001b[0mprint\u001b[0m\u001b[1;33m(\u001b[0m\u001b[0maccuracy_score\u001b[0m\u001b[1;33m(\u001b[0m\u001b[0my_train\u001b[0m\u001b[1;33m.\u001b[0m\u001b[0mreshape\u001b[0m\u001b[1;33m(\u001b[0m\u001b[1;33m-\u001b[0m\u001b[1;36m1\u001b[0m\u001b[1;33m,\u001b[0m\u001b[1;36m1\u001b[0m\u001b[1;33m)\u001b[0m\u001b[1;33m,\u001b[0m \u001b[0my_pred\u001b[0m\u001b[1;33m.\u001b[0m\u001b[0mreshape\u001b[0m\u001b[1;33m(\u001b[0m\u001b[1;33m-\u001b[0m\u001b[1;36m1\u001b[0m\u001b[1;33m,\u001b[0m\u001b[1;36m1\u001b[0m\u001b[1;33m)\u001b[0m\u001b[1;33m)\u001b[0m\u001b[1;33m)\u001b[0m\u001b[1;33m\u001b[0m\u001b[1;33m\u001b[0m\u001b[0m\n",
      "\u001b[1;32m<ipython-input-119-01ab446ff938>\u001b[0m in \u001b[0;36moptimize\u001b[1;34m(self)\u001b[0m\n\u001b[0;32m     41\u001b[0m         {'type':'ineq', 'fun': self.con_2}]\n\u001b[0;32m     42\u001b[0m \u001b[1;33m\u001b[0m\u001b[0m\n\u001b[1;32m---> 43\u001b[1;33m         \u001b[0mres\u001b[0m \u001b[1;33m=\u001b[0m \u001b[0mminimize\u001b[0m\u001b[1;33m(\u001b[0m\u001b[0mself\u001b[0m\u001b[1;33m.\u001b[0m\u001b[0mobj_fun\u001b[0m\u001b[1;33m,\u001b[0m \u001b[0mx0\u001b[0m \u001b[1;33m=\u001b[0m \u001b[0mself\u001b[0m\u001b[1;33m.\u001b[0m\u001b[0malpha\u001b[0m\u001b[1;33m,\u001b[0m\u001b[0mmethod\u001b[0m \u001b[1;33m=\u001b[0m \u001b[1;34m\"SLSQP\"\u001b[0m\u001b[1;33m,\u001b[0m \u001b[0mconstraints\u001b[0m \u001b[1;33m=\u001b[0m \u001b[0mcons\u001b[0m\u001b[1;33m)\u001b[0m\u001b[1;33m\u001b[0m\u001b[1;33m\u001b[0m\u001b[0m\n\u001b[0m\u001b[0;32m     44\u001b[0m         \u001b[0mself\u001b[0m\u001b[1;33m.\u001b[0m\u001b[0malpha\u001b[0m \u001b[1;33m=\u001b[0m \u001b[0mres\u001b[0m\u001b[1;33m.\u001b[0m\u001b[0mx\u001b[0m\u001b[1;33m\u001b[0m\u001b[1;33m\u001b[0m\u001b[0m\n\u001b[0;32m     45\u001b[0m \u001b[1;33m\u001b[0m\u001b[0m\n",
      "\u001b[1;32m~\\Anaconda3\\lib\\site-packages\\scipy\\optimize\\_minimize.py\u001b[0m in \u001b[0;36mminimize\u001b[1;34m(fun, x0, args, method, jac, hess, hessp, bounds, constraints, tol, callback, options)\u001b[0m\n\u001b[0;32m    606\u001b[0m     \u001b[1;32melif\u001b[0m \u001b[0mmeth\u001b[0m \u001b[1;33m==\u001b[0m \u001b[1;34m'slsqp'\u001b[0m\u001b[1;33m:\u001b[0m\u001b[1;33m\u001b[0m\u001b[1;33m\u001b[0m\u001b[0m\n\u001b[0;32m    607\u001b[0m         return _minimize_slsqp(fun, x0, args, jac, bounds,\n\u001b[1;32m--> 608\u001b[1;33m                                constraints, callback=callback, **options)\n\u001b[0m\u001b[0;32m    609\u001b[0m     \u001b[1;32melif\u001b[0m \u001b[0mmeth\u001b[0m \u001b[1;33m==\u001b[0m \u001b[1;34m'trust-constr'\u001b[0m\u001b[1;33m:\u001b[0m\u001b[1;33m\u001b[0m\u001b[1;33m\u001b[0m\u001b[0m\n\u001b[0;32m    610\u001b[0m         return _minimize_trustregion_constr(fun, x0, args, jac, hess, hessp,\n",
      "\u001b[1;32m~\\Anaconda3\\lib\\site-packages\\scipy\\optimize\\slsqp.py\u001b[0m in \u001b[0;36m_minimize_slsqp\u001b[1;34m(func, x0, args, jac, bounds, constraints, maxiter, ftol, iprint, disp, eps, callback, **unknown_options)\u001b[0m\n\u001b[0;32m    421\u001b[0m             \u001b[1;31m# Compute the derivatives of the objective function\u001b[0m\u001b[1;33m\u001b[0m\u001b[1;33m\u001b[0m\u001b[1;33m\u001b[0m\u001b[0m\n\u001b[0;32m    422\u001b[0m             \u001b[1;31m# For some reason SLSQP wants g dimensioned to n+1\u001b[0m\u001b[1;33m\u001b[0m\u001b[1;33m\u001b[0m\u001b[1;33m\u001b[0m\u001b[0m\n\u001b[1;32m--> 423\u001b[1;33m             \u001b[0mg\u001b[0m \u001b[1;33m=\u001b[0m \u001b[0mappend\u001b[0m\u001b[1;33m(\u001b[0m\u001b[0mfprime\u001b[0m\u001b[1;33m(\u001b[0m\u001b[0mx\u001b[0m\u001b[1;33m)\u001b[0m\u001b[1;33m,\u001b[0m \u001b[1;36m0.0\u001b[0m\u001b[1;33m)\u001b[0m\u001b[1;33m\u001b[0m\u001b[1;33m\u001b[0m\u001b[0m\n\u001b[0m\u001b[0;32m    424\u001b[0m \u001b[1;33m\u001b[0m\u001b[0m\n\u001b[0;32m    425\u001b[0m             \u001b[1;31m# Compute the normals of the constraints\u001b[0m\u001b[1;33m\u001b[0m\u001b[1;33m\u001b[0m\u001b[1;33m\u001b[0m\u001b[0m\n",
      "\u001b[1;32m~\\Anaconda3\\lib\\site-packages\\scipy\\optimize\\optimize.py\u001b[0m in \u001b[0;36mfunction_wrapper\u001b[1;34m(*wrapper_args)\u001b[0m\n\u001b[0;32m    324\u001b[0m     \u001b[1;32mdef\u001b[0m \u001b[0mfunction_wrapper\u001b[0m\u001b[1;33m(\u001b[0m\u001b[1;33m*\u001b[0m\u001b[0mwrapper_args\u001b[0m\u001b[1;33m)\u001b[0m\u001b[1;33m:\u001b[0m\u001b[1;33m\u001b[0m\u001b[1;33m\u001b[0m\u001b[0m\n\u001b[0;32m    325\u001b[0m         \u001b[0mncalls\u001b[0m\u001b[1;33m[\u001b[0m\u001b[1;36m0\u001b[0m\u001b[1;33m]\u001b[0m \u001b[1;33m+=\u001b[0m \u001b[1;36m1\u001b[0m\u001b[1;33m\u001b[0m\u001b[1;33m\u001b[0m\u001b[0m\n\u001b[1;32m--> 326\u001b[1;33m         \u001b[1;32mreturn\u001b[0m \u001b[0mfunction\u001b[0m\u001b[1;33m(\u001b[0m\u001b[1;33m*\u001b[0m\u001b[1;33m(\u001b[0m\u001b[0mwrapper_args\u001b[0m \u001b[1;33m+\u001b[0m \u001b[0margs\u001b[0m\u001b[1;33m)\u001b[0m\u001b[1;33m)\u001b[0m\u001b[1;33m\u001b[0m\u001b[1;33m\u001b[0m\u001b[0m\n\u001b[0m\u001b[0;32m    327\u001b[0m \u001b[1;33m\u001b[0m\u001b[0m\n\u001b[0;32m    328\u001b[0m     \u001b[1;32mreturn\u001b[0m \u001b[0mncalls\u001b[0m\u001b[1;33m,\u001b[0m \u001b[0mfunction_wrapper\u001b[0m\u001b[1;33m\u001b[0m\u001b[1;33m\u001b[0m\u001b[0m\n",
      "\u001b[1;32m~\\Anaconda3\\lib\\site-packages\\scipy\\optimize\\slsqp.py\u001b[0m in \u001b[0;36mapprox_jacobian\u001b[1;34m(x, func, epsilon, *args)\u001b[0m\n\u001b[0;32m     61\u001b[0m     \u001b[1;32mfor\u001b[0m \u001b[0mi\u001b[0m \u001b[1;32min\u001b[0m \u001b[0mrange\u001b[0m\u001b[1;33m(\u001b[0m\u001b[0mlen\u001b[0m\u001b[1;33m(\u001b[0m\u001b[0mx0\u001b[0m\u001b[1;33m)\u001b[0m\u001b[1;33m)\u001b[0m\u001b[1;33m:\u001b[0m\u001b[1;33m\u001b[0m\u001b[1;33m\u001b[0m\u001b[0m\n\u001b[0;32m     62\u001b[0m         \u001b[0mdx\u001b[0m\u001b[1;33m[\u001b[0m\u001b[0mi\u001b[0m\u001b[1;33m]\u001b[0m \u001b[1;33m=\u001b[0m \u001b[0mepsilon\u001b[0m\u001b[1;33m\u001b[0m\u001b[1;33m\u001b[0m\u001b[0m\n\u001b[1;32m---> 63\u001b[1;33m         \u001b[0mjac\u001b[0m\u001b[1;33m[\u001b[0m\u001b[0mi\u001b[0m\u001b[1;33m]\u001b[0m \u001b[1;33m=\u001b[0m \u001b[1;33m(\u001b[0m\u001b[0mfunc\u001b[0m\u001b[1;33m(\u001b[0m\u001b[1;33m*\u001b[0m\u001b[1;33m(\u001b[0m\u001b[1;33m(\u001b[0m\u001b[0mx0\u001b[0m\u001b[1;33m+\u001b[0m\u001b[0mdx\u001b[0m\u001b[1;33m,\u001b[0m\u001b[1;33m)\u001b[0m\u001b[1;33m+\u001b[0m\u001b[0margs\u001b[0m\u001b[1;33m)\u001b[0m\u001b[1;33m)\u001b[0m \u001b[1;33m-\u001b[0m \u001b[0mf0\u001b[0m\u001b[1;33m)\u001b[0m\u001b[1;33m/\u001b[0m\u001b[0mepsilon\u001b[0m\u001b[1;33m\u001b[0m\u001b[1;33m\u001b[0m\u001b[0m\n\u001b[0m\u001b[0;32m     64\u001b[0m         \u001b[0mdx\u001b[0m\u001b[1;33m[\u001b[0m\u001b[0mi\u001b[0m\u001b[1;33m]\u001b[0m \u001b[1;33m=\u001b[0m \u001b[1;36m0.0\u001b[0m\u001b[1;33m\u001b[0m\u001b[1;33m\u001b[0m\u001b[0m\n\u001b[0;32m     65\u001b[0m \u001b[1;33m\u001b[0m\u001b[0m\n",
      "\u001b[1;32m~\\Anaconda3\\lib\\site-packages\\scipy\\optimize\\optimize.py\u001b[0m in \u001b[0;36mfunction_wrapper\u001b[1;34m(*wrapper_args)\u001b[0m\n\u001b[0;32m    324\u001b[0m     \u001b[1;32mdef\u001b[0m \u001b[0mfunction_wrapper\u001b[0m\u001b[1;33m(\u001b[0m\u001b[1;33m*\u001b[0m\u001b[0mwrapper_args\u001b[0m\u001b[1;33m)\u001b[0m\u001b[1;33m:\u001b[0m\u001b[1;33m\u001b[0m\u001b[1;33m\u001b[0m\u001b[0m\n\u001b[0;32m    325\u001b[0m         \u001b[0mncalls\u001b[0m\u001b[1;33m[\u001b[0m\u001b[1;36m0\u001b[0m\u001b[1;33m]\u001b[0m \u001b[1;33m+=\u001b[0m \u001b[1;36m1\u001b[0m\u001b[1;33m\u001b[0m\u001b[1;33m\u001b[0m\u001b[0m\n\u001b[1;32m--> 326\u001b[1;33m         \u001b[1;32mreturn\u001b[0m \u001b[0mfunction\u001b[0m\u001b[1;33m(\u001b[0m\u001b[1;33m*\u001b[0m\u001b[1;33m(\u001b[0m\u001b[0mwrapper_args\u001b[0m \u001b[1;33m+\u001b[0m \u001b[0margs\u001b[0m\u001b[1;33m)\u001b[0m\u001b[1;33m)\u001b[0m\u001b[1;33m\u001b[0m\u001b[1;33m\u001b[0m\u001b[0m\n\u001b[0m\u001b[0;32m    327\u001b[0m \u001b[1;33m\u001b[0m\u001b[0m\n\u001b[0;32m    328\u001b[0m     \u001b[1;32mreturn\u001b[0m \u001b[0mncalls\u001b[0m\u001b[1;33m,\u001b[0m \u001b[0mfunction_wrapper\u001b[0m\u001b[1;33m\u001b[0m\u001b[1;33m\u001b[0m\u001b[0m\n",
      "\u001b[1;32m<ipython-input-119-01ab446ff938>\u001b[0m in \u001b[0;36mobj_fun\u001b[1;34m(self, alpha)\u001b[0m\n\u001b[0;32m     27\u001b[0m     \u001b[1;32mdef\u001b[0m \u001b[0mobj_fun\u001b[0m\u001b[1;33m(\u001b[0m\u001b[0mself\u001b[0m\u001b[1;33m,\u001b[0m \u001b[0malpha\u001b[0m\u001b[1;33m)\u001b[0m\u001b[1;33m:\u001b[0m\u001b[1;33m\u001b[0m\u001b[1;33m\u001b[0m\u001b[0m\n\u001b[0;32m     28\u001b[0m \u001b[1;33m\u001b[0m\u001b[0m\n\u001b[1;32m---> 29\u001b[1;33m         \u001b[0mY\u001b[0m \u001b[1;33m=\u001b[0m \u001b[0mnp\u001b[0m\u001b[1;33m.\u001b[0m\u001b[0midentity\u001b[0m\u001b[1;33m(\u001b[0m\u001b[0mself\u001b[0m\u001b[1;33m.\u001b[0m\u001b[0my\u001b[0m\u001b[1;33m.\u001b[0m\u001b[0mshape\u001b[0m\u001b[1;33m[\u001b[0m\u001b[1;36m0\u001b[0m\u001b[1;33m]\u001b[0m\u001b[1;33m)\u001b[0m\u001b[1;33m*\u001b[0m\u001b[0mself\u001b[0m\u001b[1;33m.\u001b[0m\u001b[0my\u001b[0m\u001b[1;33m\u001b[0m\u001b[1;33m\u001b[0m\u001b[0m\n\u001b[0m\u001b[0;32m     30\u001b[0m         \u001b[1;32mreturn\u001b[0m \u001b[1;36m0.5\u001b[0m \u001b[1;33m*\u001b[0m \u001b[0mnp\u001b[0m\u001b[1;33m.\u001b[0m\u001b[0mlinalg\u001b[0m\u001b[1;33m.\u001b[0m\u001b[0mnorm\u001b[0m\u001b[1;33m(\u001b[0m\u001b[1;33m(\u001b[0m\u001b[0mY\u001b[0m \u001b[1;33m@\u001b[0m \u001b[0malpha\u001b[0m\u001b[1;33m)\u001b[0m \u001b[1;33m@\u001b[0m \u001b[0mself\u001b[0m\u001b[1;33m.\u001b[0m\u001b[0mX\u001b[0m \u001b[1;33m)\u001b[0m\u001b[1;33m**\u001b[0m\u001b[1;36m2\u001b[0m \u001b[1;33m-\u001b[0m \u001b[0mnp\u001b[0m\u001b[1;33m.\u001b[0m\u001b[0mones_like\u001b[0m\u001b[1;33m(\u001b[0m\u001b[0mself\u001b[0m\u001b[1;33m.\u001b[0m\u001b[0malpha\u001b[0m\u001b[1;33m)\u001b[0m \u001b[1;33m@\u001b[0m \u001b[0malpha\u001b[0m\u001b[1;33m\u001b[0m\u001b[1;33m\u001b[0m\u001b[0m\n\u001b[0;32m     31\u001b[0m \u001b[1;33m\u001b[0m\u001b[0m\n",
      "\u001b[1;31mKeyboardInterrupt\u001b[0m: "
     ]
    }
   ],
   "source": [
    "\n",
    "class Svm:\n",
    "    \n",
    "    def __init__(self, X, y, gamma, C):\n",
    "        \n",
    "        self.X = X\n",
    "        self.y = y\n",
    "        self.alpha = np.random.normal(0,1,(1,self.X.shape[0]))\n",
    "        self.b = np.random.normal(0,1,(1,self.X.shape[0]))\n",
    "        self.C = C\n",
    "        self.gamma = gamma\n",
    "        \n",
    "    def predict(self,X, y):\n",
    "        \n",
    "        z = ((self.alpha*y) @ self.kernel_poly(X)) + self.b\n",
    "        a = np.sign(z)    \n",
    "        return a\n",
    "        \n",
    "    def kernel_gauss(self, X):\n",
    "        \n",
    "        radius = np.split(X, X.shape[0]) - X\n",
    "        return np.exp(-self.gamma * (np.linalg.norm(radius, axis = 0)))\n",
    "    \n",
    "    def kernel_poly(self,x):\n",
    "        \n",
    "        return np.squeeze((np.split(x, x.shape[0]) @ np.stack([x.T]*x.shape[0]) + 1)**self.gamma)\n",
    "    \n",
    "    def obj_fun(self, alpha):\n",
    "        \n",
    "        Y = np.identity(self.y.shape[0])*self.y\n",
    "        return 0.5 * np.linalg.norm((Y @ alpha) @ self.X )**2 - np.ones_like(self.alpha) @ alpha\n",
    "        \n",
    "     \n",
    "    def con_1(self, x):\n",
    "        return self.y @ x.T\n",
    "    def con_2(self, x):\n",
    "            return x - self.C\n",
    "        \n",
    "    def optimize(self):\n",
    "                             \n",
    "        cons = [{'type':'eq', 'fun': self.con_1},\n",
    "        {'type':'ineq', 'fun': self.con_2}]\n",
    "\n",
    "        res = minimize(self.obj_fun, x0 = self.alpha,method = \"SLSQP\", constraints = cons)\n",
    "        self.alpha = res.x   \n",
    "        \n",
    "svm = Svm(X_train, y_train, gamma = 6, C = 4)\n",
    "svm.optimize()\n",
    "y_pred = svm.predict(X_train, y_train)\n",
    "print(accuracy_score(y_train.reshape(-1,1), y_pred.reshape(-1,1)))"
   ]
  },
  {
   "cell_type": "code",
   "execution_count": 116,
   "metadata": {},
   "outputs": [
    {
     "name": "stdout",
     "output_type": "stream",
     "text": [
      "0.9425\n"
     ]
    }
   ],
   "source": [
    "from sklearn.svm import SVC\n",
    "clf = SVC(gamma='auto')\n",
    "clf.fit(X_train, y_train)\n",
    "y_pred = clf.predict(X_train)\n",
    "print(accuracy_score(y_train.reshape(-1,1), y_pred.reshape(-1,1)))"
   ]
  },
  {
   "cell_type": "code",
   "execution_count": 150,
   "metadata": {},
   "outputs": [
    {
     "name": "stdout",
     "output_type": "stream",
     "text": [
      "[array([   0,   27,  108,  243,  432,  675,  972, 1323, 1728, 2187],\n",
      "      dtype=int32), array([  27,    0,   27,  108,  243,  432,  675,  972, 1323, 1728],\n",
      "      dtype=int32), array([ 108,   27,    0,   27,  108,  243,  432,  675,  972, 1323],\n",
      "      dtype=int32), array([243, 108,  27,   0,  27, 108, 243, 432, 675, 972], dtype=int32), array([432, 243, 108,  27,   0,  27, 108, 243, 432, 675], dtype=int32), array([675, 432, 243, 108,  27,   0,  27, 108, 243, 432], dtype=int32), array([972, 675, 432, 243, 108,  27,   0,  27, 108, 243], dtype=int32), array([1323,  972,  675,  432,  243,  108,   27,    0,   27,  108],\n",
      "      dtype=int32), array([1728, 1323,  972,  675,  432,  243,  108,   27,    0,   27],\n",
      "      dtype=int32), array([2187, 1728, 1323,  972,  675,  432,  243,  108,   27,    0],\n",
      "      dtype=int32)]\n"
     ]
    }
   ],
   "source": [
    "X = np.arange(30).reshape(10,3)\n",
    "a = []\n",
    "for array in np.split(X, 10):\n",
    "    a.append(np.sum((array[0] - X)**2, axis = 1))\n",
    "print(a)"
   ]
  },
  {
   "cell_type": "code",
   "execution_count": 142,
   "metadata": {},
   "outputs": [
    {
     "data": {
      "text/plain": [
       "array([[   0.,   27.,  108.,  243.,  432.,  675.,  972., 1323., 1728.,\n",
       "        2187.],\n",
       "       [  27.,    0.,   27.,  108.,  243.,  432.,  675.,  972., 1323.,\n",
       "        1728.],\n",
       "       [ 108.,   27.,    0.,   27.,  108.,  243.,  432.,  675.,  972.,\n",
       "        1323.],\n",
       "       [ 243.,  108.,   27.,    0.,   27.,  108.,  243.,  432.,  675.,\n",
       "         972.],\n",
       "       [ 432.,  243.,  108.,   27.,    0.,   27.,  108.,  243.,  432.,\n",
       "         675.],\n",
       "       [ 675.,  432.,  243.,  108.,   27.,    0.,   27.,  108.,  243.,\n",
       "         432.],\n",
       "       [ 972.,  675.,  432.,  243.,  108.,   27.,    0.,   27.,  108.,\n",
       "         243.],\n",
       "       [1323.,  972.,  675.,  432.,  243.,  108.,   27.,    0.,   27.,\n",
       "         108.],\n",
       "       [1728., 1323.,  972.,  675.,  432.,  243.,  108.,   27.,    0.,\n",
       "          27.],\n",
       "       [2187., 1728., 1323.,  972.,  675.,  432.,  243.,  108.,   27.,\n",
       "           0.]])"
      ]
     },
     "execution_count": 142,
     "metadata": {},
     "output_type": "execute_result"
    }
   ],
   "source": [
    "np.linalg.norm(np.split(X,10)-np.stack([X]*10), axis = 2)**2"
   ]
  },
  {
   "cell_type": "code",
   "execution_count": 195,
   "metadata": {},
   "outputs": [
    {
     "data": {
      "text/plain": [
       "(1, 4, 3)"
      ]
     },
     "execution_count": 195,
     "metadata": {},
     "output_type": "execute_result"
    }
   ],
   "source": [
    "np.random.seed(1)\n",
    "X[np.where(np.random.normal(0,1,(10)) >0),].shape"
   ]
  }
 ],
 "metadata": {
  "kernelspec": {
   "display_name": "Python 3",
   "language": "python",
   "name": "python3"
  },
  "language_info": {
   "codemirror_mode": {
    "name": "ipython",
    "version": 3
   },
   "file_extension": ".py",
   "mimetype": "text/x-python",
   "name": "python",
   "nbconvert_exporter": "python",
   "pygments_lexer": "ipython3",
   "version": "3.7.1"
  }
 },
 "nbformat": 4,
 "nbformat_minor": 2
}
