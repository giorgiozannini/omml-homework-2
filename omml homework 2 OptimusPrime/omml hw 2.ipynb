{
 "cells": [
  {
   "cell_type": "code",
   "execution_count": 2,
   "metadata": {},
   "outputs": [],
   "source": [
    "\"\"\"\n",
    "Created on Sun Nov 24 11:23:09 2019\n",
    "\n",
    "@author: marco\n",
    "\"\"\"\n",
    "\n",
    "\"\"\"\n",
    "this is the code you need to run to import the data. \n",
    "You just have to change line 40 putting the correct path.\n",
    "\"\"\"\n",
    "\n",
    "import numpy as np\n",
    "\n",
    "def load_mnist(path, kind='train'):\n",
    "    import os\n",
    "    import gzip\n",
    "    import numpy as np\n",
    "\n",
    "    \"\"\"Load MNIST data from `path`\"\"\"\n",
    "    labels_path = os.path.join(path,\n",
    "                               '%s-labels-idx1-ubyte.gz'\n",
    "                               % kind)\n",
    "    images_path = os.path.join(path,\n",
    "                               '%s-images-idx3-ubyte.gz'\n",
    "                               % kind)\n",
    "\n",
    "    with gzip.open(labels_path, 'rb') as lbpath:\n",
    "        labels = np.frombuffer(lbpath.read(), dtype=np.uint8,\n",
    "                               offset=8)\n",
    "\n",
    "    with gzip.open(images_path, 'rb') as imgpath:\n",
    "        images = np.frombuffer(imgpath.read(), dtype=np.uint8,\n",
    "                               offset=16).reshape(len(labels), 784)\n",
    "\n",
    "    return images, labels\n",
    "\n",
    "\n",
    "\n",
    "X_all_labels, y_all_labels = load_mnist('C:/Users/RE-Giorgio/Documents/OptimusPrime/Data', kind='train')\n",
    "\n",
    "\n",
    "\"\"\"\n",
    "We are only interested in the items with label 2, 4 and 6.\n",
    "Only a subset of 1000 samples per class will be used.\n",
    "\"\"\"\n",
    "indexLabel2 = np.where((y_all_labels==2))\n",
    "xLabel2 =  X_all_labels[indexLabel2][:1000,:].astype('float64') \n",
    "yLabel2 = y_all_labels[indexLabel2][:1000].astype('float64') \n",
    "\n",
    "indexLabel4 = np.where((y_all_labels==4))\n",
    "xLabel4 =  X_all_labels[indexLabel4][:1000,:].astype('float64') \n",
    "yLabel4 = y_all_labels[indexLabel4][:1000].astype('float64') \n",
    "\n",
    "indexLabel6 = np.where((y_all_labels==6))\n",
    "xLabel6 =  X_all_labels[indexLabel6][:1000,:].astype('float64') \n",
    "yLabel6 = y_all_labels[indexLabel6][:1000].astype('float64') \n",
    "\n",
    "\n",
    "\"\"\"\n",
    "To train a SVM, you have to convert the labels of the two classes of interest into '+1' and '-1'.\n",
    "\"\"\"\n",
    "yLabel2[:] = +1\n",
    "yLabel4[:] = -1\n",
    "\n",
    "X = np.concatenate([xLabel2, xLabel4])\n",
    "y = np.concatenate([yLabel2, yLabel4])\n"
   ]
  },
  {
   "cell_type": "code",
   "execution_count": 3,
   "metadata": {},
   "outputs": [],
   "source": [
    "from sklearn.preprocessing import StandardScaler\n",
    "scaler = StandardScaler()\n",
    "X=scaler.fit_transform(X)"
   ]
  },
  {
   "cell_type": "code",
   "execution_count": null,
   "metadata": {},
   "outputs": [],
   "source": [
    "class Svm:\n",
    "    \n",
    "    def __init__(self, X, y, gamma):\n",
    "        \n",
    "        self.X = X.T\n",
    "        self.y = y\n",
    "        self.alpha = np.random.normal(0,1,(self.X.shape[1],1))\n",
    "        self.b = np.random.normal(0,1,(self.X.shape[1],1))\n",
    "        self.gamma = gamma\n",
    "        \n",
    "    def predict(self,X, y):\n",
    "        \n",
    "        z = self.alpha*y*self.kernel_poly(X) + self.b\n",
    "        a = np.sign(z)    \n",
    "        return a\n",
    "        \n",
    "    def kernel_gauss(self, X):\n",
    "        \n",
    "        radius = np.split(X, X.shape[0]) - X\n",
    "        return np.exp(-self.gamma * (np.linalg.norm(radius, axis = 0)))\n",
    "    \n",
    "    def kernel_poly(self,x):\n",
    "        \n",
    "        return (np.split(X, X.shape[0]) @ np.stack([X.T]*X.shape[0]) + 1)**self.gamma\n",
    "                     \n",
    "svm = Svm(X, y, gamma = 6)\n",
    "svm.predict(X,y)"
   ]
  },
  {
   "cell_type": "code",
   "execution_count": 51,
   "metadata": {},
   "outputs": [
    {
     "data": {
      "text/plain": [
       "array([[[   5,   14,   23,   32,   41,   50,   59,   68,   77,   86]],\n",
       "\n",
       "       [[  14,   50,   86,  122,  158,  194,  230,  266,  302,  338]],\n",
       "\n",
       "       [[  23,   86,  149,  212,  275,  338,  401,  464,  527,  590]],\n",
       "\n",
       "       [[  32,  122,  212,  302,  392,  482,  572,  662,  752,  842]],\n",
       "\n",
       "       [[  41,  158,  275,  392,  509,  626,  743,  860,  977, 1094]],\n",
       "\n",
       "       [[  50,  194,  338,  482,  626,  770,  914, 1058, 1202, 1346]],\n",
       "\n",
       "       [[  59,  230,  401,  572,  743,  914, 1085, 1256, 1427, 1598]],\n",
       "\n",
       "       [[  68,  266,  464,  662,  860, 1058, 1256, 1454, 1652, 1850]],\n",
       "\n",
       "       [[  77,  302,  527,  752,  977, 1202, 1427, 1652, 1877, 2102]],\n",
       "\n",
       "       [[  86,  338,  590,  842, 1094, 1346, 1598, 1850, 2102, 2354]]])"
      ]
     },
     "execution_count": 51,
     "metadata": {},
     "output_type": "execute_result"
    }
   ],
   "source": [
    "X = np.arange(30).reshape(10,3)\n",
    "\n",
    "np.split(X, X.shape[0]) @ np.stack([X.T]*X.shape[0])"
   ]
  }
 ],
 "metadata": {
  "kernelspec": {
   "display_name": "Python 3",
   "language": "python",
   "name": "python3"
  },
  "language_info": {
   "codemirror_mode": {
    "name": "ipython",
    "version": 3
   },
   "file_extension": ".py",
   "mimetype": "text/x-python",
   "name": "python",
   "nbconvert_exporter": "python",
   "pygments_lexer": "ipython3",
   "version": "3.7.1"
  }
 },
 "nbformat": 4,
 "nbformat_minor": 2
}
