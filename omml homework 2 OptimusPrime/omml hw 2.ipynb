{
 "cells": [
  {
   "cell_type": "code",
   "execution_count": 415,
   "metadata": {},
   "outputs": [],
   "source": [
    "import numpy as np\n",
    "from scipy.optimize import minimize\n",
    "from sklearn.preprocessing import StandardScaler\n",
    "from sklearn.preprocessing import MinMaxScaler\n",
    "from scipy.optimize import NonlinearConstraint\n",
    "from scipy.optimize import LinearConstraint\n",
    "from sklearn.model_selection import train_test_split\n",
    "from sklearn.metrics import accuracy_score\n",
    "from cvxopt.modeling import op, variable, dot\n",
    "from cvxopt import matrix as cvxopt_matrix\n",
    "from cvxopt import solvers as cvxopt_solvers"
   ]
  },
  {
   "cell_type": "code",
   "execution_count": 416,
   "metadata": {},
   "outputs": [],
   "source": [
    "def load_mnist(path, kind='train'):\n",
    "    import os\n",
    "    import gzip\n",
    "    import numpy as np\n",
    "\n",
    "    labels_path = os.path.join(path,\n",
    "                               '%s-labels-idx1-ubyte.gz'\n",
    "                               % kind)\n",
    "    images_path = os.path.join(path,\n",
    "                               '%s-images-idx3-ubyte.gz'\n",
    "                               % kind)\n",
    "\n",
    "    with gzip.open(labels_path, 'rb') as lbpath:\n",
    "        labels = np.frombuffer(lbpath.read(), dtype=np.uint8,\n",
    "                               offset=8)\n",
    "\n",
    "    with gzip.open(images_path, 'rb') as imgpath:\n",
    "        images = np.frombuffer(imgpath.read(), dtype=np.uint8,\n",
    "                               offset=16).reshape(len(labels), 784)\n",
    "\n",
    "    return images, labels\n",
    "\n",
    "\n",
    "\n",
    "X_all_labels, y_all_labels = load_mnist('C:/Users/RE-Giorgio/Documents/OptimusPrime/Data', kind='train')\n",
    "\n",
    "\n",
    "indexLabel2 = np.where((y_all_labels==2))\n",
    "xLabel2 =  X_all_labels[indexLabel2][:1000,:].astype('float64') \n",
    "yLabel2 = y_all_labels[indexLabel2][:1000].astype('float64') \n",
    "\n",
    "indexLabel4 = np.where((y_all_labels==4))\n",
    "xLabel4 =  X_all_labels[indexLabel4][:1000,:].astype('float64') \n",
    "yLabel4 = y_all_labels[indexLabel4][:1000].astype('float64') \n",
    "\n",
    "indexLabel6 = np.where((y_all_labels==6))\n",
    "xLabel6 =  X_all_labels[indexLabel6][:100,:].astype('float64') \n",
    "yLabel6 = y_all_labels[indexLabel6][:100].astype('float64') \n",
    "\n",
    "yLabel2[:] = +1\n",
    "yLabel4[:] = -1\n",
    "\n",
    "X = np.concatenate([xLabel2, xLabel4])\n",
    "y = np.concatenate([yLabel2, yLabel4])\n",
    "\n",
    "\n",
    "\n",
    "X_train, X_test, y_train, y_test = train_test_split(X, y, test_size=0.2, random_state=1696995) \n",
    "\n",
    "scaler = MinMaxScaler()\n",
    "X_train=scaler.fit_transform(X_train)\n",
    "X_test=scaler.fit_transform(X_test)"
   ]
  },
  {
   "cell_type": "code",
   "execution_count": 426,
   "metadata": {
    "scrolled": true
   },
   "outputs": [
    {
     "name": "stdout",
     "output_type": "stream",
     "text": [
      "0.835\n"
     ]
    }
   ],
   "source": [
    "class Svm:\n",
    "    \n",
    "    def __init__(self, X, y, gamma, C):\n",
    "        \n",
    "        self.X = X\n",
    "        self.y = y\n",
    "        self.alpha = np.random.normal(0,1,(1,self.X.shape[0]))\n",
    "        self.b = np.random.randint(1)\n",
    "        self.C = C\n",
    "        self.gamma = gamma\n",
    "        \n",
    "    def predict(self,X):\n",
    "        \n",
    "        z = (self.alpha*self.y) @ self.kernel_gauss(self.X, X) + self.b\n",
    "        a = np.sign(z)    \n",
    "        return a\n",
    "        \n",
    "    def kernel_gauss(self, X1, X2):\n",
    "        \n",
    "        K  = np.zeros((X1.shape[0],X2.shape[0]))\n",
    "        for i in range(X1.shape[0]):\n",
    "            for j in range(X2.shape[0]):\n",
    "                K[i,j] = np.exp(-self.gamma * (np.square(np.linalg.norm(X1[i] - X2[j]))))\n",
    "        return K\n",
    "        \n",
    "    def optimize(self):\n",
    "        \n",
    "        # computing alpha\n",
    "        y = self.y.reshape(-1,1)\n",
    "        K = self.kernel_gauss(self.X, self.X)\n",
    "        H = np.outer(y,y) * K\n",
    "        P = cvxopt_matrix(H)\n",
    "        q = cvxopt_matrix(-np.ones((self.X.shape[0])))\n",
    "        G = cvxopt_matrix(np.vstack((-np.eye(self.X.shape[0]),np.eye(self.X.shape[0]))))\n",
    "        h = cvxopt_matrix(np.hstack((np.zeros(self.X.shape[0]), np.ones(self.X.shape[0]) * self.C)))\n",
    "        A = cvxopt_matrix(y.reshape(1, -1))\n",
    "        b = cvxopt_matrix(np.zeros(1))\n",
    "        \n",
    "        res = cvxopt_solvers.qp(P, q, G, h, A, b)\n",
    "        \n",
    "        alpha = np.array(res['x'])\n",
    "        self.alpha = alpha.T\n",
    "        \n",
    "        # computing b\n",
    "        alpha = alpha.ravel()\n",
    "        idx = np.where(alpha > 1e-5)[0]\n",
    "        b = 0\n",
    "        for i in range(len(idx)):\n",
    "            b += y[i] - np.sum(alpha[idx] * self.y[idx] * K[idx[i],idx])\n",
    "        self.b = b/len(idx)\n",
    "        \n",
    "svm = Svm(X_train, y_train, gamma = 0.1, C = 1)\n",
    "svm.optimize()\n",
    "y_pred = svm.predict(X_test)\n",
    "print(accuracy_score(y_test.reshape(-1,1), y_pred.reshape(-1,1)))"
   ]
  },
  {
   "cell_type": "code",
   "execution_count": 302,
   "metadata": {},
   "outputs": [
    {
     "name": "stdout",
     "output_type": "stream",
     "text": [
      "0.8325\n"
     ]
    }
   ],
   "source": [
    "from sklearn.svm import SVC\n",
    "clf = SVC(gamma=0.1)\n",
    "clf.fit(X_train, y_train)\n",
    "y_pred = clf.predict(X_test)\n",
    "print(accuracy_score(y_test.reshape(-1,1), y_pred.reshape(-1,1)))"
   ]
  },
  {
   "cell_type": "code",
   "execution_count": 305,
   "metadata": {},
   "outputs": [
    {
     "data": {
      "text/plain": [
       "<bound method BaseSVC.decision_function of SVC(C=1.0, cache_size=200, class_weight=None, coef0=0.0,\n",
       "    decision_function_shape='ovr', degree=3, gamma=0.1, kernel='rbf',\n",
       "    max_iter=-1, probability=False, random_state=None, shrinking=True,\n",
       "    tol=0.001, verbose=False)>"
      ]
     },
     "execution_count": 305,
     "metadata": {},
     "output_type": "execute_result"
    }
   ],
   "source": [
    "clf."
   ]
  }
 ],
 "metadata": {
  "kernelspec": {
   "display_name": "Python 3",
   "language": "python",
   "name": "python3"
  },
  "language_info": {
   "codemirror_mode": {
    "name": "ipython",
    "version": 3
   },
   "file_extension": ".py",
   "mimetype": "text/x-python",
   "name": "python",
   "nbconvert_exporter": "python",
   "pygments_lexer": "ipython3",
   "version": "3.7.1"
  }
 },
 "nbformat": 4,
 "nbformat_minor": 2
}
